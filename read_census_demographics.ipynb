{
  "nbformat": 4,
  "nbformat_minor": 0,
  "metadata": {
    "colab": {
      "name": "read_census_demographics.ipynb",
      "provenance": [],
      "authorship_tag": "ABX9TyMXCw/XhtiONpkHNx7IaydA",
      "include_colab_link": true
    },
    "kernelspec": {
      "name": "ir",
      "display_name": "R"
    },
    "language_info": {
      "name": "R"
    }
  },
  "cells": [
    {
      "cell_type": "markdown",
      "metadata": {
        "id": "view-in-github",
        "colab_type": "text"
      },
      "source": [
        "<a href=\"https://colab.research.google.com/github/hongqin/USA-census-county-level/blob/main/read_census_demographics.ipynb\" target=\"_parent\"><img src=\"https://colab.research.google.com/assets/colab-badge.svg\" alt=\"Open In Colab\"/></a>"
      ]
    },
    {
      "cell_type": "code",
      "metadata": {
        "colab": {
          "base_uri": "https://localhost:8080/"
        },
        "id": "_RoXGQvBKxTu",
        "outputId": "2058c285-b97c-4009-ab3b-1b0827e85ae9"
      },
      "source": [
        "library(tidyverse)\n",
        "url = \"https://www2.census.gov/programs-surveys/popest/datasets/2010-2019/counties/asrh/cc-est2019-alldata.csv\"\n",
        "\n",
        "tb = read_csv(url)"
      ],
      "execution_count": 5,
      "outputs": [
        {
          "output_type": "stream",
          "text": [
            "\n",
            "\u001b[36m──\u001b[39m \u001b[1m\u001b[1mColumn specification\u001b[1m\u001b[22m \u001b[36m────────────────────────────────────────────────────────\u001b[39m\n",
            "cols(\n",
            "  .default = col_double(),\n",
            "  SUMLEV = \u001b[31mcol_character()\u001b[39m,\n",
            "  STATE = \u001b[31mcol_character()\u001b[39m,\n",
            "  COUNTY = \u001b[31mcol_character()\u001b[39m,\n",
            "  STNAME = \u001b[31mcol_character()\u001b[39m,\n",
            "  CTYNAME = \u001b[31mcol_character()\u001b[39m\n",
            ")\n",
            "\u001b[36mℹ\u001b[39m Use \u001b[30m\u001b[47m\u001b[30m\u001b[47m`spec()`\u001b[47m\u001b[30m\u001b[49m\u001b[39m for the full column specifications.\n",
            "\n",
            "\n"
          ],
          "name": "stderr"
        }
      ]
    },
    {
      "cell_type": "code",
      "metadata": {
        "colab": {
          "base_uri": "https://localhost:8080/",
          "height": 405
        },
        "id": "2gqyRSCWLIm6",
        "outputId": "93b110cb-7105-4c0c-c549-cb9ea1bc7337"
      },
      "source": [
        "head(tb)"
      ],
      "execution_count": 6,
      "outputs": [
        {
          "output_type": "display_data",
          "data": {
            "text/plain": [
              "  SUMLEV STATE COUNTY STNAME  CTYNAME        YEAR AGEGRP TOT_POP TOT_MALE\n",
              "1 050    01    001    Alabama Autauga County 1    0      54571   26569   \n",
              "2 050    01    001    Alabama Autauga County 1    1       3579    1866   \n",
              "3 050    01    001    Alabama Autauga County 1    2       3991    2001   \n",
              "4 050    01    001    Alabama Autauga County 1    3       4290    2171   \n",
              "5 050    01    001    Alabama Autauga County 1    4       4290    2213   \n",
              "6 050    01    001    Alabama Autauga County 1    5       3080    1539   \n",
              "  TOT_FEMALE ⋯ HWAC_MALE HWAC_FEMALE HBAC_MALE HBAC_FEMALE HIAC_MALE\n",
              "1 28002      ⋯ 607       538         57        48          26       \n",
              "2  1713      ⋯  77        56          9         5           4       \n",
              "3  1990      ⋯  64        66          2         3           2       \n",
              "4  2119      ⋯  51        57         13         7           5       \n",
              "5  2077      ⋯  48        44          7         5           0       \n",
              "6  1541      ⋯  62        34          2         4           2       \n",
              "  HIAC_FEMALE HAAC_MALE HAAC_FEMALE HNAC_MALE HNAC_FEMALE\n",
              "1 32          9         11          19        10         \n",
              "2  1          0          0           2         1         \n",
              "3  7          2          3           2         0         \n",
              "4  5          2          1           1         1         \n",
              "5  2          2          1           3         1         \n",
              "6  3          0          1           1         1         "
            ],
            "text/latex": "A tibble: 6 × 80\n\\begin{tabular}{lllllllllllllllllllll}\n SUMLEV & STATE & COUNTY & STNAME & CTYNAME & YEAR & AGEGRP & TOT\\_POP & TOT\\_MALE & TOT\\_FEMALE & ⋯ & HWAC\\_MALE & HWAC\\_FEMALE & HBAC\\_MALE & HBAC\\_FEMALE & HIAC\\_MALE & HIAC\\_FEMALE & HAAC\\_MALE & HAAC\\_FEMALE & HNAC\\_MALE & HNAC\\_FEMALE\\\\\n <chr> & <chr> & <chr> & <chr> & <chr> & <dbl> & <dbl> & <dbl> & <dbl> & <dbl> & ⋯ & <dbl> & <dbl> & <dbl> & <dbl> & <dbl> & <dbl> & <dbl> & <dbl> & <dbl> & <dbl>\\\\\n\\hline\n\t 050 & 01 & 001 & Alabama & Autauga County & 1 & 0 & 54571 & 26569 & 28002 & ⋯ & 607 & 538 & 57 & 48 & 26 & 32 & 9 & 11 & 19 & 10\\\\\n\t 050 & 01 & 001 & Alabama & Autauga County & 1 & 1 &  3579 &  1866 &  1713 & ⋯ &  77 &  56 &  9 &  5 &  4 &  1 & 0 &  0 &  2 &  1\\\\\n\t 050 & 01 & 001 & Alabama & Autauga County & 1 & 2 &  3991 &  2001 &  1990 & ⋯ &  64 &  66 &  2 &  3 &  2 &  7 & 2 &  3 &  2 &  0\\\\\n\t 050 & 01 & 001 & Alabama & Autauga County & 1 & 3 &  4290 &  2171 &  2119 & ⋯ &  51 &  57 & 13 &  7 &  5 &  5 & 2 &  1 &  1 &  1\\\\\n\t 050 & 01 & 001 & Alabama & Autauga County & 1 & 4 &  4290 &  2213 &  2077 & ⋯ &  48 &  44 &  7 &  5 &  0 &  2 & 2 &  1 &  3 &  1\\\\\n\t 050 & 01 & 001 & Alabama & Autauga County & 1 & 5 &  3080 &  1539 &  1541 & ⋯ &  62 &  34 &  2 &  4 &  2 &  3 & 0 &  1 &  1 &  1\\\\\n\\end{tabular}\n",
            "text/markdown": "\nA tibble: 6 × 80\n\n| SUMLEV &lt;chr&gt; | STATE &lt;chr&gt; | COUNTY &lt;chr&gt; | STNAME &lt;chr&gt; | CTYNAME &lt;chr&gt; | YEAR &lt;dbl&gt; | AGEGRP &lt;dbl&gt; | TOT_POP &lt;dbl&gt; | TOT_MALE &lt;dbl&gt; | TOT_FEMALE &lt;dbl&gt; | ⋯ ⋯ | HWAC_MALE &lt;dbl&gt; | HWAC_FEMALE &lt;dbl&gt; | HBAC_MALE &lt;dbl&gt; | HBAC_FEMALE &lt;dbl&gt; | HIAC_MALE &lt;dbl&gt; | HIAC_FEMALE &lt;dbl&gt; | HAAC_MALE &lt;dbl&gt; | HAAC_FEMALE &lt;dbl&gt; | HNAC_MALE &lt;dbl&gt; | HNAC_FEMALE &lt;dbl&gt; |\n|---|---|---|---|---|---|---|---|---|---|---|---|---|---|---|---|---|---|---|---|---|\n| 050 | 01 | 001 | Alabama | Autauga County | 1 | 0 | 54571 | 26569 | 28002 | ⋯ | 607 | 538 | 57 | 48 | 26 | 32 | 9 | 11 | 19 | 10 |\n| 050 | 01 | 001 | Alabama | Autauga County | 1 | 1 |  3579 |  1866 |  1713 | ⋯ |  77 |  56 |  9 |  5 |  4 |  1 | 0 |  0 |  2 |  1 |\n| 050 | 01 | 001 | Alabama | Autauga County | 1 | 2 |  3991 |  2001 |  1990 | ⋯ |  64 |  66 |  2 |  3 |  2 |  7 | 2 |  3 |  2 |  0 |\n| 050 | 01 | 001 | Alabama | Autauga County | 1 | 3 |  4290 |  2171 |  2119 | ⋯ |  51 |  57 | 13 |  7 |  5 |  5 | 2 |  1 |  1 |  1 |\n| 050 | 01 | 001 | Alabama | Autauga County | 1 | 4 |  4290 |  2213 |  2077 | ⋯ |  48 |  44 |  7 |  5 |  0 |  2 | 2 |  1 |  3 |  1 |\n| 050 | 01 | 001 | Alabama | Autauga County | 1 | 5 |  3080 |  1539 |  1541 | ⋯ |  62 |  34 |  2 |  4 |  2 |  3 | 0 |  1 |  1 |  1 |\n\n",
            "text/html": [
              "<table class=\"dataframe\">\n",
              "<caption>A tibble: 6 × 80</caption>\n",
              "<thead>\n",
              "\t<tr><th scope=col>SUMLEV</th><th scope=col>STATE</th><th scope=col>COUNTY</th><th scope=col>STNAME</th><th scope=col>CTYNAME</th><th scope=col>YEAR</th><th scope=col>AGEGRP</th><th scope=col>TOT_POP</th><th scope=col>TOT_MALE</th><th scope=col>TOT_FEMALE</th><th scope=col>⋯</th><th scope=col>HWAC_MALE</th><th scope=col>HWAC_FEMALE</th><th scope=col>HBAC_MALE</th><th scope=col>HBAC_FEMALE</th><th scope=col>HIAC_MALE</th><th scope=col>HIAC_FEMALE</th><th scope=col>HAAC_MALE</th><th scope=col>HAAC_FEMALE</th><th scope=col>HNAC_MALE</th><th scope=col>HNAC_FEMALE</th></tr>\n",
              "\t<tr><th scope=col>&lt;chr&gt;</th><th scope=col>&lt;chr&gt;</th><th scope=col>&lt;chr&gt;</th><th scope=col>&lt;chr&gt;</th><th scope=col>&lt;chr&gt;</th><th scope=col>&lt;dbl&gt;</th><th scope=col>&lt;dbl&gt;</th><th scope=col>&lt;dbl&gt;</th><th scope=col>&lt;dbl&gt;</th><th scope=col>&lt;dbl&gt;</th><th scope=col>⋯</th><th scope=col>&lt;dbl&gt;</th><th scope=col>&lt;dbl&gt;</th><th scope=col>&lt;dbl&gt;</th><th scope=col>&lt;dbl&gt;</th><th scope=col>&lt;dbl&gt;</th><th scope=col>&lt;dbl&gt;</th><th scope=col>&lt;dbl&gt;</th><th scope=col>&lt;dbl&gt;</th><th scope=col>&lt;dbl&gt;</th><th scope=col>&lt;dbl&gt;</th></tr>\n",
              "</thead>\n",
              "<tbody>\n",
              "\t<tr><td>050</td><td>01</td><td>001</td><td>Alabama</td><td>Autauga County</td><td>1</td><td>0</td><td>54571</td><td>26569</td><td>28002</td><td>⋯</td><td>607</td><td>538</td><td>57</td><td>48</td><td>26</td><td>32</td><td>9</td><td>11</td><td>19</td><td>10</td></tr>\n",
              "\t<tr><td>050</td><td>01</td><td>001</td><td>Alabama</td><td>Autauga County</td><td>1</td><td>1</td><td> 3579</td><td> 1866</td><td> 1713</td><td>⋯</td><td> 77</td><td> 56</td><td> 9</td><td> 5</td><td> 4</td><td> 1</td><td>0</td><td> 0</td><td> 2</td><td> 1</td></tr>\n",
              "\t<tr><td>050</td><td>01</td><td>001</td><td>Alabama</td><td>Autauga County</td><td>1</td><td>2</td><td> 3991</td><td> 2001</td><td> 1990</td><td>⋯</td><td> 64</td><td> 66</td><td> 2</td><td> 3</td><td> 2</td><td> 7</td><td>2</td><td> 3</td><td> 2</td><td> 0</td></tr>\n",
              "\t<tr><td>050</td><td>01</td><td>001</td><td>Alabama</td><td>Autauga County</td><td>1</td><td>3</td><td> 4290</td><td> 2171</td><td> 2119</td><td>⋯</td><td> 51</td><td> 57</td><td>13</td><td> 7</td><td> 5</td><td> 5</td><td>2</td><td> 1</td><td> 1</td><td> 1</td></tr>\n",
              "\t<tr><td>050</td><td>01</td><td>001</td><td>Alabama</td><td>Autauga County</td><td>1</td><td>4</td><td> 4290</td><td> 2213</td><td> 2077</td><td>⋯</td><td> 48</td><td> 44</td><td> 7</td><td> 5</td><td> 0</td><td> 2</td><td>2</td><td> 1</td><td> 3</td><td> 1</td></tr>\n",
              "\t<tr><td>050</td><td>01</td><td>001</td><td>Alabama</td><td>Autauga County</td><td>1</td><td>5</td><td> 3080</td><td> 1539</td><td> 1541</td><td>⋯</td><td> 62</td><td> 34</td><td> 2</td><td> 4</td><td> 2</td><td> 3</td><td>0</td><td> 1</td><td> 1</td><td> 1</td></tr>\n",
              "</tbody>\n",
              "</table>\n"
            ]
          },
          "metadata": {
            "tags": []
          }
        }
      ]
    }
  ]
}